{
  "nbformat": 4,
  "nbformat_minor": 0,
  "metadata": {
    "accelerator": "GPU",
    "colab": {
      "provenance": [],
      "gpuType": "T4"
    },
    "kernelspec": {
      "display_name": "Python 3",
      "name": "python3"
    },
    "language_info": {
      "codemirror_mode": {
        "name": "ipython",
        "version": 3
      },
      "file_extension": ".py",
      "mimetype": "text/x-python",
      "name": "python",
      "nbconvert_exporter": "python",
      "pygments_lexer": "ipython3",
      "version": "3.8.6"
    },
    "widgets": {
      "application/vnd.jupyter.widget-state+json": {
        "6ea2211c25a344e2bb4b4fbe9a1f9371": {
          "model_module": "@jupyter-widgets/controls",
          "model_name": "HBoxModel",
          "model_module_version": "1.5.0",
          "state": {
            "_dom_classes": [],
            "_model_module": "@jupyter-widgets/controls",
            "_model_module_version": "1.5.0",
            "_model_name": "HBoxModel",
            "_view_count": null,
            "_view_module": "@jupyter-widgets/controls",
            "_view_module_version": "1.5.0",
            "_view_name": "HBoxView",
            "box_style": "",
            "children": [
              "IPY_MODEL_42c3a35e3ed54268a22ec73846d679c2",
              "IPY_MODEL_33505f164cfd44d58be3411ab2525d0d",
              "IPY_MODEL_4ffd1819649643cf8d219e44a18fd8c2"
            ],
            "layout": "IPY_MODEL_7aa5b633d49b4be4b4b247db57ee4283"
          }
        },
        "42c3a35e3ed54268a22ec73846d679c2": {
          "model_module": "@jupyter-widgets/controls",
          "model_name": "HTMLModel",
          "model_module_version": "1.5.0",
          "state": {
            "_dom_classes": [],
            "_model_module": "@jupyter-widgets/controls",
            "_model_module_version": "1.5.0",
            "_model_name": "HTMLModel",
            "_view_count": null,
            "_view_module": "@jupyter-widgets/controls",
            "_view_module_version": "1.5.0",
            "_view_name": "HTMLView",
            "description": "",
            "description_tooltip": null,
            "layout": "IPY_MODEL_aaca87a47b4d4d118ff0c7209059cf4f",
            "placeholder": "​",
            "style": "IPY_MODEL_bb5ca7cfdb97407c99846dfad04aba26",
            "value": "100%"
          }
        },
        "33505f164cfd44d58be3411ab2525d0d": {
          "model_module": "@jupyter-widgets/controls",
          "model_name": "FloatProgressModel",
          "model_module_version": "1.5.0",
          "state": {
            "_dom_classes": [],
            "_model_module": "@jupyter-widgets/controls",
            "_model_module_version": "1.5.0",
            "_model_name": "FloatProgressModel",
            "_view_count": null,
            "_view_module": "@jupyter-widgets/controls",
            "_view_module_version": "1.5.0",
            "_view_name": "ProgressView",
            "bar_style": "success",
            "description": "",
            "description_tooltip": null,
            "layout": "IPY_MODEL_68476530e9b84841aa13c9b5d69a23b8",
            "max": 469,
            "min": 0,
            "orientation": "horizontal",
            "style": "IPY_MODEL_6757e951f6f945e9ba013666995032ea",
            "value": 469
          }
        },
        "4ffd1819649643cf8d219e44a18fd8c2": {
          "model_module": "@jupyter-widgets/controls",
          "model_name": "HTMLModel",
          "model_module_version": "1.5.0",
          "state": {
            "_dom_classes": [],
            "_model_module": "@jupyter-widgets/controls",
            "_model_module_version": "1.5.0",
            "_model_name": "HTMLModel",
            "_view_count": null,
            "_view_module": "@jupyter-widgets/controls",
            "_view_module_version": "1.5.0",
            "_view_name": "HTMLView",
            "description": "",
            "description_tooltip": null,
            "layout": "IPY_MODEL_09f3e0047b8d42ffb5460da5461b23a5",
            "placeholder": "​",
            "style": "IPY_MODEL_f1a56b5144a0460aab9f30db4789f1c6",
            "value": " 469/469 [00:20&lt;00:00, 18.39it/s]"
          }
        },
        "7aa5b633d49b4be4b4b247db57ee4283": {
          "model_module": "@jupyter-widgets/base",
          "model_name": "LayoutModel",
          "model_module_version": "1.2.0",
          "state": {
            "_model_module": "@jupyter-widgets/base",
            "_model_module_version": "1.2.0",
            "_model_name": "LayoutModel",
            "_view_count": null,
            "_view_module": "@jupyter-widgets/base",
            "_view_module_version": "1.2.0",
            "_view_name": "LayoutView",
            "align_content": null,
            "align_items": null,
            "align_self": null,
            "border": null,
            "bottom": null,
            "display": null,
            "flex": null,
            "flex_flow": null,
            "grid_area": null,
            "grid_auto_columns": null,
            "grid_auto_flow": null,
            "grid_auto_rows": null,
            "grid_column": null,
            "grid_gap": null,
            "grid_row": null,
            "grid_template_areas": null,
            "grid_template_columns": null,
            "grid_template_rows": null,
            "height": null,
            "justify_content": null,
            "justify_items": null,
            "left": null,
            "margin": null,
            "max_height": null,
            "max_width": null,
            "min_height": null,
            "min_width": null,
            "object_fit": null,
            "object_position": null,
            "order": null,
            "overflow": null,
            "overflow_x": null,
            "overflow_y": null,
            "padding": null,
            "right": null,
            "top": null,
            "visibility": null,
            "width": null
          }
        },
        "aaca87a47b4d4d118ff0c7209059cf4f": {
          "model_module": "@jupyter-widgets/base",
          "model_name": "LayoutModel",
          "model_module_version": "1.2.0",
          "state": {
            "_model_module": "@jupyter-widgets/base",
            "_model_module_version": "1.2.0",
            "_model_name": "LayoutModel",
            "_view_count": null,
            "_view_module": "@jupyter-widgets/base",
            "_view_module_version": "1.2.0",
            "_view_name": "LayoutView",
            "align_content": null,
            "align_items": null,
            "align_self": null,
            "border": null,
            "bottom": null,
            "display": null,
            "flex": null,
            "flex_flow": null,
            "grid_area": null,
            "grid_auto_columns": null,
            "grid_auto_flow": null,
            "grid_auto_rows": null,
            "grid_column": null,
            "grid_gap": null,
            "grid_row": null,
            "grid_template_areas": null,
            "grid_template_columns": null,
            "grid_template_rows": null,
            "height": null,
            "justify_content": null,
            "justify_items": null,
            "left": null,
            "margin": null,
            "max_height": null,
            "max_width": null,
            "min_height": null,
            "min_width": null,
            "object_fit": null,
            "object_position": null,
            "order": null,
            "overflow": null,
            "overflow_x": null,
            "overflow_y": null,
            "padding": null,
            "right": null,
            "top": null,
            "visibility": null,
            "width": null
          }
        },
        "bb5ca7cfdb97407c99846dfad04aba26": {
          "model_module": "@jupyter-widgets/controls",
          "model_name": "DescriptionStyleModel",
          "model_module_version": "1.5.0",
          "state": {
            "_model_module": "@jupyter-widgets/controls",
            "_model_module_version": "1.5.0",
            "_model_name": "DescriptionStyleModel",
            "_view_count": null,
            "_view_module": "@jupyter-widgets/base",
            "_view_module_version": "1.2.0",
            "_view_name": "StyleView",
            "description_width": ""
          }
        },
        "68476530e9b84841aa13c9b5d69a23b8": {
          "model_module": "@jupyter-widgets/base",
          "model_name": "LayoutModel",
          "model_module_version": "1.2.0",
          "state": {
            "_model_module": "@jupyter-widgets/base",
            "_model_module_version": "1.2.0",
            "_model_name": "LayoutModel",
            "_view_count": null,
            "_view_module": "@jupyter-widgets/base",
            "_view_module_version": "1.2.0",
            "_view_name": "LayoutView",
            "align_content": null,
            "align_items": null,
            "align_self": null,
            "border": null,
            "bottom": null,
            "display": null,
            "flex": null,
            "flex_flow": null,
            "grid_area": null,
            "grid_auto_columns": null,
            "grid_auto_flow": null,
            "grid_auto_rows": null,
            "grid_column": null,
            "grid_gap": null,
            "grid_row": null,
            "grid_template_areas": null,
            "grid_template_columns": null,
            "grid_template_rows": null,
            "height": null,
            "justify_content": null,
            "justify_items": null,
            "left": null,
            "margin": null,
            "max_height": null,
            "max_width": null,
            "min_height": null,
            "min_width": null,
            "object_fit": null,
            "object_position": null,
            "order": null,
            "overflow": null,
            "overflow_x": null,
            "overflow_y": null,
            "padding": null,
            "right": null,
            "top": null,
            "visibility": null,
            "width": null
          }
        },
        "6757e951f6f945e9ba013666995032ea": {
          "model_module": "@jupyter-widgets/controls",
          "model_name": "ProgressStyleModel",
          "model_module_version": "1.5.0",
          "state": {
            "_model_module": "@jupyter-widgets/controls",
            "_model_module_version": "1.5.0",
            "_model_name": "ProgressStyleModel",
            "_view_count": null,
            "_view_module": "@jupyter-widgets/base",
            "_view_module_version": "1.2.0",
            "_view_name": "StyleView",
            "bar_color": null,
            "description_width": ""
          }
        },
        "09f3e0047b8d42ffb5460da5461b23a5": {
          "model_module": "@jupyter-widgets/base",
          "model_name": "LayoutModel",
          "model_module_version": "1.2.0",
          "state": {
            "_model_module": "@jupyter-widgets/base",
            "_model_module_version": "1.2.0",
            "_model_name": "LayoutModel",
            "_view_count": null,
            "_view_module": "@jupyter-widgets/base",
            "_view_module_version": "1.2.0",
            "_view_name": "LayoutView",
            "align_content": null,
            "align_items": null,
            "align_self": null,
            "border": null,
            "bottom": null,
            "display": null,
            "flex": null,
            "flex_flow": null,
            "grid_area": null,
            "grid_auto_columns": null,
            "grid_auto_flow": null,
            "grid_auto_rows": null,
            "grid_column": null,
            "grid_gap": null,
            "grid_row": null,
            "grid_template_areas": null,
            "grid_template_columns": null,
            "grid_template_rows": null,
            "height": null,
            "justify_content": null,
            "justify_items": null,
            "left": null,
            "margin": null,
            "max_height": null,
            "max_width": null,
            "min_height": null,
            "min_width": null,
            "object_fit": null,
            "object_position": null,
            "order": null,
            "overflow": null,
            "overflow_x": null,
            "overflow_y": null,
            "padding": null,
            "right": null,
            "top": null,
            "visibility": null,
            "width": null
          }
        },
        "f1a56b5144a0460aab9f30db4789f1c6": {
          "model_module": "@jupyter-widgets/controls",
          "model_name": "DescriptionStyleModel",
          "model_module_version": "1.5.0",
          "state": {
            "_model_module": "@jupyter-widgets/controls",
            "_model_module_version": "1.5.0",
            "_model_name": "DescriptionStyleModel",
            "_view_count": null,
            "_view_module": "@jupyter-widgets/base",
            "_view_module_version": "1.2.0",
            "_view_name": "StyleView",
            "description_width": ""
          }
        },
        "514752a972f64501905da467da5401fd": {
          "model_module": "@jupyter-widgets/controls",
          "model_name": "HBoxModel",
          "model_module_version": "1.5.0",
          "state": {
            "_dom_classes": [],
            "_model_module": "@jupyter-widgets/controls",
            "_model_module_version": "1.5.0",
            "_model_name": "HBoxModel",
            "_view_count": null,
            "_view_module": "@jupyter-widgets/controls",
            "_view_module_version": "1.5.0",
            "_view_name": "HBoxView",
            "box_style": "",
            "children": [
              "IPY_MODEL_72b1dc1f2028407f915c8f809539f558",
              "IPY_MODEL_0ed4865becdb446683fe8c387a5607b1",
              "IPY_MODEL_0a28633e442243aa85647665e36836cf"
            ],
            "layout": "IPY_MODEL_062c36cfbb40456081b64f2bf4e23f99"
          }
        },
        "72b1dc1f2028407f915c8f809539f558": {
          "model_module": "@jupyter-widgets/controls",
          "model_name": "HTMLModel",
          "model_module_version": "1.5.0",
          "state": {
            "_dom_classes": [],
            "_model_module": "@jupyter-widgets/controls",
            "_model_module_version": "1.5.0",
            "_model_name": "HTMLModel",
            "_view_count": null,
            "_view_module": "@jupyter-widgets/controls",
            "_view_module_version": "1.5.0",
            "_view_name": "HTMLView",
            "description": "",
            "description_tooltip": null,
            "layout": "IPY_MODEL_9b92c9ddd44b488d9bf1cfc4e906a665",
            "placeholder": "​",
            "style": "IPY_MODEL_ec4b604569944126891a8307dd5fff23",
            "value": "100%"
          }
        },
        "0ed4865becdb446683fe8c387a5607b1": {
          "model_module": "@jupyter-widgets/controls",
          "model_name": "FloatProgressModel",
          "model_module_version": "1.5.0",
          "state": {
            "_dom_classes": [],
            "_model_module": "@jupyter-widgets/controls",
            "_model_module_version": "1.5.0",
            "_model_name": "FloatProgressModel",
            "_view_count": null,
            "_view_module": "@jupyter-widgets/controls",
            "_view_module_version": "1.5.0",
            "_view_name": "ProgressView",
            "bar_style": "success",
            "description": "",
            "description_tooltip": null,
            "layout": "IPY_MODEL_1308d8895d7343a0a4c0cfffea53ef02",
            "max": 469,
            "min": 0,
            "orientation": "horizontal",
            "style": "IPY_MODEL_67cc21cfa80f47199a95a218a232833a",
            "value": 469
          }
        },
        "0a28633e442243aa85647665e36836cf": {
          "model_module": "@jupyter-widgets/controls",
          "model_name": "HTMLModel",
          "model_module_version": "1.5.0",
          "state": {
            "_dom_classes": [],
            "_model_module": "@jupyter-widgets/controls",
            "_model_module_version": "1.5.0",
            "_model_name": "HTMLModel",
            "_view_count": null,
            "_view_module": "@jupyter-widgets/controls",
            "_view_module_version": "1.5.0",
            "_view_name": "HTMLView",
            "description": "",
            "description_tooltip": null,
            "layout": "IPY_MODEL_975dbaf325a64643aa4228c166b33cf8",
            "placeholder": "​",
            "style": "IPY_MODEL_390f136e1c2c4dc1bf699c9800a676f2",
            "value": " 469/469 [00:19&lt;00:00, 25.93it/s]"
          }
        },
        "062c36cfbb40456081b64f2bf4e23f99": {
          "model_module": "@jupyter-widgets/base",
          "model_name": "LayoutModel",
          "model_module_version": "1.2.0",
          "state": {
            "_model_module": "@jupyter-widgets/base",
            "_model_module_version": "1.2.0",
            "_model_name": "LayoutModel",
            "_view_count": null,
            "_view_module": "@jupyter-widgets/base",
            "_view_module_version": "1.2.0",
            "_view_name": "LayoutView",
            "align_content": null,
            "align_items": null,
            "align_self": null,
            "border": null,
            "bottom": null,
            "display": null,
            "flex": null,
            "flex_flow": null,
            "grid_area": null,
            "grid_auto_columns": null,
            "grid_auto_flow": null,
            "grid_auto_rows": null,
            "grid_column": null,
            "grid_gap": null,
            "grid_row": null,
            "grid_template_areas": null,
            "grid_template_columns": null,
            "grid_template_rows": null,
            "height": null,
            "justify_content": null,
            "justify_items": null,
            "left": null,
            "margin": null,
            "max_height": null,
            "max_width": null,
            "min_height": null,
            "min_width": null,
            "object_fit": null,
            "object_position": null,
            "order": null,
            "overflow": null,
            "overflow_x": null,
            "overflow_y": null,
            "padding": null,
            "right": null,
            "top": null,
            "visibility": null,
            "width": null
          }
        },
        "9b92c9ddd44b488d9bf1cfc4e906a665": {
          "model_module": "@jupyter-widgets/base",
          "model_name": "LayoutModel",
          "model_module_version": "1.2.0",
          "state": {
            "_model_module": "@jupyter-widgets/base",
            "_model_module_version": "1.2.0",
            "_model_name": "LayoutModel",
            "_view_count": null,
            "_view_module": "@jupyter-widgets/base",
            "_view_module_version": "1.2.0",
            "_view_name": "LayoutView",
            "align_content": null,
            "align_items": null,
            "align_self": null,
            "border": null,
            "bottom": null,
            "display": null,
            "flex": null,
            "flex_flow": null,
            "grid_area": null,
            "grid_auto_columns": null,
            "grid_auto_flow": null,
            "grid_auto_rows": null,
            "grid_column": null,
            "grid_gap": null,
            "grid_row": null,
            "grid_template_areas": null,
            "grid_template_columns": null,
            "grid_template_rows": null,
            "height": null,
            "justify_content": null,
            "justify_items": null,
            "left": null,
            "margin": null,
            "max_height": null,
            "max_width": null,
            "min_height": null,
            "min_width": null,
            "object_fit": null,
            "object_position": null,
            "order": null,
            "overflow": null,
            "overflow_x": null,
            "overflow_y": null,
            "padding": null,
            "right": null,
            "top": null,
            "visibility": null,
            "width": null
          }
        },
        "ec4b604569944126891a8307dd5fff23": {
          "model_module": "@jupyter-widgets/controls",
          "model_name": "DescriptionStyleModel",
          "model_module_version": "1.5.0",
          "state": {
            "_model_module": "@jupyter-widgets/controls",
            "_model_module_version": "1.5.0",
            "_model_name": "DescriptionStyleModel",
            "_view_count": null,
            "_view_module": "@jupyter-widgets/base",
            "_view_module_version": "1.2.0",
            "_view_name": "StyleView",
            "description_width": ""
          }
        },
        "1308d8895d7343a0a4c0cfffea53ef02": {
          "model_module": "@jupyter-widgets/base",
          "model_name": "LayoutModel",
          "model_module_version": "1.2.0",
          "state": {
            "_model_module": "@jupyter-widgets/base",
            "_model_module_version": "1.2.0",
            "_model_name": "LayoutModel",
            "_view_count": null,
            "_view_module": "@jupyter-widgets/base",
            "_view_module_version": "1.2.0",
            "_view_name": "LayoutView",
            "align_content": null,
            "align_items": null,
            "align_self": null,
            "border": null,
            "bottom": null,
            "display": null,
            "flex": null,
            "flex_flow": null,
            "grid_area": null,
            "grid_auto_columns": null,
            "grid_auto_flow": null,
            "grid_auto_rows": null,
            "grid_column": null,
            "grid_gap": null,
            "grid_row": null,
            "grid_template_areas": null,
            "grid_template_columns": null,
            "grid_template_rows": null,
            "height": null,
            "justify_content": null,
            "justify_items": null,
            "left": null,
            "margin": null,
            "max_height": null,
            "max_width": null,
            "min_height": null,
            "min_width": null,
            "object_fit": null,
            "object_position": null,
            "order": null,
            "overflow": null,
            "overflow_x": null,
            "overflow_y": null,
            "padding": null,
            "right": null,
            "top": null,
            "visibility": null,
            "width": null
          }
        },
        "67cc21cfa80f47199a95a218a232833a": {
          "model_module": "@jupyter-widgets/controls",
          "model_name": "ProgressStyleModel",
          "model_module_version": "1.5.0",
          "state": {
            "_model_module": "@jupyter-widgets/controls",
            "_model_module_version": "1.5.0",
            "_model_name": "ProgressStyleModel",
            "_view_count": null,
            "_view_module": "@jupyter-widgets/base",
            "_view_module_version": "1.2.0",
            "_view_name": "StyleView",
            "bar_color": null,
            "description_width": ""
          }
        },
        "975dbaf325a64643aa4228c166b33cf8": {
          "model_module": "@jupyter-widgets/base",
          "model_name": "LayoutModel",
          "model_module_version": "1.2.0",
          "state": {
            "_model_module": "@jupyter-widgets/base",
            "_model_module_version": "1.2.0",
            "_model_name": "LayoutModel",
            "_view_count": null,
            "_view_module": "@jupyter-widgets/base",
            "_view_module_version": "1.2.0",
            "_view_name": "LayoutView",
            "align_content": null,
            "align_items": null,
            "align_self": null,
            "border": null,
            "bottom": null,
            "display": null,
            "flex": null,
            "flex_flow": null,
            "grid_area": null,
            "grid_auto_columns": null,
            "grid_auto_flow": null,
            "grid_auto_rows": null,
            "grid_column": null,
            "grid_gap": null,
            "grid_row": null,
            "grid_template_areas": null,
            "grid_template_columns": null,
            "grid_template_rows": null,
            "height": null,
            "justify_content": null,
            "justify_items": null,
            "left": null,
            "margin": null,
            "max_height": null,
            "max_width": null,
            "min_height": null,
            "min_width": null,
            "object_fit": null,
            "object_position": null,
            "order": null,
            "overflow": null,
            "overflow_x": null,
            "overflow_y": null,
            "padding": null,
            "right": null,
            "top": null,
            "visibility": null,
            "width": null
          }
        },
        "390f136e1c2c4dc1bf699c9800a676f2": {
          "model_module": "@jupyter-widgets/controls",
          "model_name": "DescriptionStyleModel",
          "model_module_version": "1.5.0",
          "state": {
            "_model_module": "@jupyter-widgets/controls",
            "_model_module_version": "1.5.0",
            "_model_name": "DescriptionStyleModel",
            "_view_count": null,
            "_view_module": "@jupyter-widgets/base",
            "_view_module_version": "1.2.0",
            "_view_name": "StyleView",
            "description_width": ""
          }
        },
        "d0b19463a5bf45d09f9e4b9d99e9837d": {
          "model_module": "@jupyter-widgets/controls",
          "model_name": "HBoxModel",
          "model_module_version": "1.5.0",
          "state": {
            "_dom_classes": [],
            "_model_module": "@jupyter-widgets/controls",
            "_model_module_version": "1.5.0",
            "_model_name": "HBoxModel",
            "_view_count": null,
            "_view_module": "@jupyter-widgets/controls",
            "_view_module_version": "1.5.0",
            "_view_name": "HBoxView",
            "box_style": "",
            "children": [
              "IPY_MODEL_c926581204ef4137926ae42ad607adf9",
              "IPY_MODEL_9b1572083a6f4f8e9097f307d4e1001a",
              "IPY_MODEL_be8f765ceae54fee925b1c2915a11a74"
            ],
            "layout": "IPY_MODEL_c5b5e543207446dea819c89d679bc04c"
          }
        },
        "c926581204ef4137926ae42ad607adf9": {
          "model_module": "@jupyter-widgets/controls",
          "model_name": "HTMLModel",
          "model_module_version": "1.5.0",
          "state": {
            "_dom_classes": [],
            "_model_module": "@jupyter-widgets/controls",
            "_model_module_version": "1.5.0",
            "_model_name": "HTMLModel",
            "_view_count": null,
            "_view_module": "@jupyter-widgets/controls",
            "_view_module_version": "1.5.0",
            "_view_name": "HTMLView",
            "description": "",
            "description_tooltip": null,
            "layout": "IPY_MODEL_c620d3b888504e9f96d4f2291de2515b",
            "placeholder": "​",
            "style": "IPY_MODEL_47e0654707c74654b388b2a66a05ad1f",
            "value": "100%"
          }
        },
        "9b1572083a6f4f8e9097f307d4e1001a": {
          "model_module": "@jupyter-widgets/controls",
          "model_name": "FloatProgressModel",
          "model_module_version": "1.5.0",
          "state": {
            "_dom_classes": [],
            "_model_module": "@jupyter-widgets/controls",
            "_model_module_version": "1.5.0",
            "_model_name": "FloatProgressModel",
            "_view_count": null,
            "_view_module": "@jupyter-widgets/controls",
            "_view_module_version": "1.5.0",
            "_view_name": "ProgressView",
            "bar_style": "success",
            "description": "",
            "description_tooltip": null,
            "layout": "IPY_MODEL_502e179323ad4bb88dbd4b75018805e2",
            "max": 469,
            "min": 0,
            "orientation": "horizontal",
            "style": "IPY_MODEL_689885fd8d4c4da59bddc8d05520a62c",
            "value": 469
          }
        },
        "be8f765ceae54fee925b1c2915a11a74": {
          "model_module": "@jupyter-widgets/controls",
          "model_name": "HTMLModel",
          "model_module_version": "1.5.0",
          "state": {
            "_dom_classes": [],
            "_model_module": "@jupyter-widgets/controls",
            "_model_module_version": "1.5.0",
            "_model_name": "HTMLModel",
            "_view_count": null,
            "_view_module": "@jupyter-widgets/controls",
            "_view_module_version": "1.5.0",
            "_view_name": "HTMLView",
            "description": "",
            "description_tooltip": null,
            "layout": "IPY_MODEL_0a98f264ffc648c2af32750c57188a8a",
            "placeholder": "​",
            "style": "IPY_MODEL_e3ad6a6b906a41c0b20f883c75bfcfd8",
            "value": " 469/469 [00:19&lt;00:00, 26.02it/s]"
          }
        },
        "c5b5e543207446dea819c89d679bc04c": {
          "model_module": "@jupyter-widgets/base",
          "model_name": "LayoutModel",
          "model_module_version": "1.2.0",
          "state": {
            "_model_module": "@jupyter-widgets/base",
            "_model_module_version": "1.2.0",
            "_model_name": "LayoutModel",
            "_view_count": null,
            "_view_module": "@jupyter-widgets/base",
            "_view_module_version": "1.2.0",
            "_view_name": "LayoutView",
            "align_content": null,
            "align_items": null,
            "align_self": null,
            "border": null,
            "bottom": null,
            "display": null,
            "flex": null,
            "flex_flow": null,
            "grid_area": null,
            "grid_auto_columns": null,
            "grid_auto_flow": null,
            "grid_auto_rows": null,
            "grid_column": null,
            "grid_gap": null,
            "grid_row": null,
            "grid_template_areas": null,
            "grid_template_columns": null,
            "grid_template_rows": null,
            "height": null,
            "justify_content": null,
            "justify_items": null,
            "left": null,
            "margin": null,
            "max_height": null,
            "max_width": null,
            "min_height": null,
            "min_width": null,
            "object_fit": null,
            "object_position": null,
            "order": null,
            "overflow": null,
            "overflow_x": null,
            "overflow_y": null,
            "padding": null,
            "right": null,
            "top": null,
            "visibility": null,
            "width": null
          }
        },
        "c620d3b888504e9f96d4f2291de2515b": {
          "model_module": "@jupyter-widgets/base",
          "model_name": "LayoutModel",
          "model_module_version": "1.2.0",
          "state": {
            "_model_module": "@jupyter-widgets/base",
            "_model_module_version": "1.2.0",
            "_model_name": "LayoutModel",
            "_view_count": null,
            "_view_module": "@jupyter-widgets/base",
            "_view_module_version": "1.2.0",
            "_view_name": "LayoutView",
            "align_content": null,
            "align_items": null,
            "align_self": null,
            "border": null,
            "bottom": null,
            "display": null,
            "flex": null,
            "flex_flow": null,
            "grid_area": null,
            "grid_auto_columns": null,
            "grid_auto_flow": null,
            "grid_auto_rows": null,
            "grid_column": null,
            "grid_gap": null,
            "grid_row": null,
            "grid_template_areas": null,
            "grid_template_columns": null,
            "grid_template_rows": null,
            "height": null,
            "justify_content": null,
            "justify_items": null,
            "left": null,
            "margin": null,
            "max_height": null,
            "max_width": null,
            "min_height": null,
            "min_width": null,
            "object_fit": null,
            "object_position": null,
            "order": null,
            "overflow": null,
            "overflow_x": null,
            "overflow_y": null,
            "padding": null,
            "right": null,
            "top": null,
            "visibility": null,
            "width": null
          }
        },
        "47e0654707c74654b388b2a66a05ad1f": {
          "model_module": "@jupyter-widgets/controls",
          "model_name": "DescriptionStyleModel",
          "model_module_version": "1.5.0",
          "state": {
            "_model_module": "@jupyter-widgets/controls",
            "_model_module_version": "1.5.0",
            "_model_name": "DescriptionStyleModel",
            "_view_count": null,
            "_view_module": "@jupyter-widgets/base",
            "_view_module_version": "1.2.0",
            "_view_name": "StyleView",
            "description_width": ""
          }
        },
        "502e179323ad4bb88dbd4b75018805e2": {
          "model_module": "@jupyter-widgets/base",
          "model_name": "LayoutModel",
          "model_module_version": "1.2.0",
          "state": {
            "_model_module": "@jupyter-widgets/base",
            "_model_module_version": "1.2.0",
            "_model_name": "LayoutModel",
            "_view_count": null,
            "_view_module": "@jupyter-widgets/base",
            "_view_module_version": "1.2.0",
            "_view_name": "LayoutView",
            "align_content": null,
            "align_items": null,
            "align_self": null,
            "border": null,
            "bottom": null,
            "display": null,
            "flex": null,
            "flex_flow": null,
            "grid_area": null,
            "grid_auto_columns": null,
            "grid_auto_flow": null,
            "grid_auto_rows": null,
            "grid_column": null,
            "grid_gap": null,
            "grid_row": null,
            "grid_template_areas": null,
            "grid_template_columns": null,
            "grid_template_rows": null,
            "height": null,
            "justify_content": null,
            "justify_items": null,
            "left": null,
            "margin": null,
            "max_height": null,
            "max_width": null,
            "min_height": null,
            "min_width": null,
            "object_fit": null,
            "object_position": null,
            "order": null,
            "overflow": null,
            "overflow_x": null,
            "overflow_y": null,
            "padding": null,
            "right": null,
            "top": null,
            "visibility": null,
            "width": null
          }
        },
        "689885fd8d4c4da59bddc8d05520a62c": {
          "model_module": "@jupyter-widgets/controls",
          "model_name": "ProgressStyleModel",
          "model_module_version": "1.5.0",
          "state": {
            "_model_module": "@jupyter-widgets/controls",
            "_model_module_version": "1.5.0",
            "_model_name": "ProgressStyleModel",
            "_view_count": null,
            "_view_module": "@jupyter-widgets/base",
            "_view_module_version": "1.2.0",
            "_view_name": "StyleView",
            "bar_color": null,
            "description_width": ""
          }
        },
        "0a98f264ffc648c2af32750c57188a8a": {
          "model_module": "@jupyter-widgets/base",
          "model_name": "LayoutModel",
          "model_module_version": "1.2.0",
          "state": {
            "_model_module": "@jupyter-widgets/base",
            "_model_module_version": "1.2.0",
            "_model_name": "LayoutModel",
            "_view_count": null,
            "_view_module": "@jupyter-widgets/base",
            "_view_module_version": "1.2.0",
            "_view_name": "LayoutView",
            "align_content": null,
            "align_items": null,
            "align_self": null,
            "border": null,
            "bottom": null,
            "display": null,
            "flex": null,
            "flex_flow": null,
            "grid_area": null,
            "grid_auto_columns": null,
            "grid_auto_flow": null,
            "grid_auto_rows": null,
            "grid_column": null,
            "grid_gap": null,
            "grid_row": null,
            "grid_template_areas": null,
            "grid_template_columns": null,
            "grid_template_rows": null,
            "height": null,
            "justify_content": null,
            "justify_items": null,
            "left": null,
            "margin": null,
            "max_height": null,
            "max_width": null,
            "min_height": null,
            "min_width": null,
            "object_fit": null,
            "object_position": null,
            "order": null,
            "overflow": null,
            "overflow_x": null,
            "overflow_y": null,
            "padding": null,
            "right": null,
            "top": null,
            "visibility": null,
            "width": null
          }
        },
        "e3ad6a6b906a41c0b20f883c75bfcfd8": {
          "model_module": "@jupyter-widgets/controls",
          "model_name": "DescriptionStyleModel",
          "model_module_version": "1.5.0",
          "state": {
            "_model_module": "@jupyter-widgets/controls",
            "_model_module_version": "1.5.0",
            "_model_name": "DescriptionStyleModel",
            "_view_count": null,
            "_view_module": "@jupyter-widgets/base",
            "_view_module_version": "1.2.0",
            "_view_name": "StyleView",
            "description_width": ""
          }
        },
        "de38ff2cd8ea4a649cd990d5b5976c07": {
          "model_module": "@jupyter-widgets/controls",
          "model_name": "HBoxModel",
          "model_module_version": "1.5.0",
          "state": {
            "_dom_classes": [],
            "_model_module": "@jupyter-widgets/controls",
            "_model_module_version": "1.5.0",
            "_model_name": "HBoxModel",
            "_view_count": null,
            "_view_module": "@jupyter-widgets/controls",
            "_view_module_version": "1.5.0",
            "_view_name": "HBoxView",
            "box_style": "",
            "children": [
              "IPY_MODEL_368c0ca4dccf486f89e08248cd2a88bf",
              "IPY_MODEL_095f19fde85949ca80d6243e5cc9219f",
              "IPY_MODEL_47b302a3a804488b88f19058466fc143"
            ],
            "layout": "IPY_MODEL_ab2bb9bda86e4c4a994f76ae60f87a44"
          }
        },
        "368c0ca4dccf486f89e08248cd2a88bf": {
          "model_module": "@jupyter-widgets/controls",
          "model_name": "HTMLModel",
          "model_module_version": "1.5.0",
          "state": {
            "_dom_classes": [],
            "_model_module": "@jupyter-widgets/controls",
            "_model_module_version": "1.5.0",
            "_model_name": "HTMLModel",
            "_view_count": null,
            "_view_module": "@jupyter-widgets/controls",
            "_view_module_version": "1.5.0",
            "_view_name": "HTMLView",
            "description": "",
            "description_tooltip": null,
            "layout": "IPY_MODEL_3a06cd6e2ce642538eec221c89ef4462",
            "placeholder": "​",
            "style": "IPY_MODEL_def941d91ffa4fbb801f8a1a16929734",
            "value": "100%"
          }
        },
        "095f19fde85949ca80d6243e5cc9219f": {
          "model_module": "@jupyter-widgets/controls",
          "model_name": "FloatProgressModel",
          "model_module_version": "1.5.0",
          "state": {
            "_dom_classes": [],
            "_model_module": "@jupyter-widgets/controls",
            "_model_module_version": "1.5.0",
            "_model_name": "FloatProgressModel",
            "_view_count": null,
            "_view_module": "@jupyter-widgets/controls",
            "_view_module_version": "1.5.0",
            "_view_name": "ProgressView",
            "bar_style": "success",
            "description": "",
            "description_tooltip": null,
            "layout": "IPY_MODEL_ea7f65803b2647ec9a375043f3ec552e",
            "max": 469,
            "min": 0,
            "orientation": "horizontal",
            "style": "IPY_MODEL_7553af8a035746398d8f0bed63bd4aaa",
            "value": 469
          }
        },
        "47b302a3a804488b88f19058466fc143": {
          "model_module": "@jupyter-widgets/controls",
          "model_name": "HTMLModel",
          "model_module_version": "1.5.0",
          "state": {
            "_dom_classes": [],
            "_model_module": "@jupyter-widgets/controls",
            "_model_module_version": "1.5.0",
            "_model_name": "HTMLModel",
            "_view_count": null,
            "_view_module": "@jupyter-widgets/controls",
            "_view_module_version": "1.5.0",
            "_view_name": "HTMLView",
            "description": "",
            "description_tooltip": null,
            "layout": "IPY_MODEL_a10bcc7d1d8b47a49ab94e54bde2df2e",
            "placeholder": "​",
            "style": "IPY_MODEL_8ff2f602b211420b9f5db334f7d7461f",
            "value": " 469/469 [00:19&lt;00:00, 25.08it/s]"
          }
        },
        "ab2bb9bda86e4c4a994f76ae60f87a44": {
          "model_module": "@jupyter-widgets/base",
          "model_name": "LayoutModel",
          "model_module_version": "1.2.0",
          "state": {
            "_model_module": "@jupyter-widgets/base",
            "_model_module_version": "1.2.0",
            "_model_name": "LayoutModel",
            "_view_count": null,
            "_view_module": "@jupyter-widgets/base",
            "_view_module_version": "1.2.0",
            "_view_name": "LayoutView",
            "align_content": null,
            "align_items": null,
            "align_self": null,
            "border": null,
            "bottom": null,
            "display": null,
            "flex": null,
            "flex_flow": null,
            "grid_area": null,
            "grid_auto_columns": null,
            "grid_auto_flow": null,
            "grid_auto_rows": null,
            "grid_column": null,
            "grid_gap": null,
            "grid_row": null,
            "grid_template_areas": null,
            "grid_template_columns": null,
            "grid_template_rows": null,
            "height": null,
            "justify_content": null,
            "justify_items": null,
            "left": null,
            "margin": null,
            "max_height": null,
            "max_width": null,
            "min_height": null,
            "min_width": null,
            "object_fit": null,
            "object_position": null,
            "order": null,
            "overflow": null,
            "overflow_x": null,
            "overflow_y": null,
            "padding": null,
            "right": null,
            "top": null,
            "visibility": null,
            "width": null
          }
        },
        "3a06cd6e2ce642538eec221c89ef4462": {
          "model_module": "@jupyter-widgets/base",
          "model_name": "LayoutModel",
          "model_module_version": "1.2.0",
          "state": {
            "_model_module": "@jupyter-widgets/base",
            "_model_module_version": "1.2.0",
            "_model_name": "LayoutModel",
            "_view_count": null,
            "_view_module": "@jupyter-widgets/base",
            "_view_module_version": "1.2.0",
            "_view_name": "LayoutView",
            "align_content": null,
            "align_items": null,
            "align_self": null,
            "border": null,
            "bottom": null,
            "display": null,
            "flex": null,
            "flex_flow": null,
            "grid_area": null,
            "grid_auto_columns": null,
            "grid_auto_flow": null,
            "grid_auto_rows": null,
            "grid_column": null,
            "grid_gap": null,
            "grid_row": null,
            "grid_template_areas": null,
            "grid_template_columns": null,
            "grid_template_rows": null,
            "height": null,
            "justify_content": null,
            "justify_items": null,
            "left": null,
            "margin": null,
            "max_height": null,
            "max_width": null,
            "min_height": null,
            "min_width": null,
            "object_fit": null,
            "object_position": null,
            "order": null,
            "overflow": null,
            "overflow_x": null,
            "overflow_y": null,
            "padding": null,
            "right": null,
            "top": null,
            "visibility": null,
            "width": null
          }
        },
        "def941d91ffa4fbb801f8a1a16929734": {
          "model_module": "@jupyter-widgets/controls",
          "model_name": "DescriptionStyleModel",
          "model_module_version": "1.5.0",
          "state": {
            "_model_module": "@jupyter-widgets/controls",
            "_model_module_version": "1.5.0",
            "_model_name": "DescriptionStyleModel",
            "_view_count": null,
            "_view_module": "@jupyter-widgets/base",
            "_view_module_version": "1.2.0",
            "_view_name": "StyleView",
            "description_width": ""
          }
        },
        "ea7f65803b2647ec9a375043f3ec552e": {
          "model_module": "@jupyter-widgets/base",
          "model_name": "LayoutModel",
          "model_module_version": "1.2.0",
          "state": {
            "_model_module": "@jupyter-widgets/base",
            "_model_module_version": "1.2.0",
            "_model_name": "LayoutModel",
            "_view_count": null,
            "_view_module": "@jupyter-widgets/base",
            "_view_module_version": "1.2.0",
            "_view_name": "LayoutView",
            "align_content": null,
            "align_items": null,
            "align_self": null,
            "border": null,
            "bottom": null,
            "display": null,
            "flex": null,
            "flex_flow": null,
            "grid_area": null,
            "grid_auto_columns": null,
            "grid_auto_flow": null,
            "grid_auto_rows": null,
            "grid_column": null,
            "grid_gap": null,
            "grid_row": null,
            "grid_template_areas": null,
            "grid_template_columns": null,
            "grid_template_rows": null,
            "height": null,
            "justify_content": null,
            "justify_items": null,
            "left": null,
            "margin": null,
            "max_height": null,
            "max_width": null,
            "min_height": null,
            "min_width": null,
            "object_fit": null,
            "object_position": null,
            "order": null,
            "overflow": null,
            "overflow_x": null,
            "overflow_y": null,
            "padding": null,
            "right": null,
            "top": null,
            "visibility": null,
            "width": null
          }
        },
        "7553af8a035746398d8f0bed63bd4aaa": {
          "model_module": "@jupyter-widgets/controls",
          "model_name": "ProgressStyleModel",
          "model_module_version": "1.5.0",
          "state": {
            "_model_module": "@jupyter-widgets/controls",
            "_model_module_version": "1.5.0",
            "_model_name": "ProgressStyleModel",
            "_view_count": null,
            "_view_module": "@jupyter-widgets/base",
            "_view_module_version": "1.2.0",
            "_view_name": "StyleView",
            "bar_color": null,
            "description_width": ""
          }
        },
        "a10bcc7d1d8b47a49ab94e54bde2df2e": {
          "model_module": "@jupyter-widgets/base",
          "model_name": "LayoutModel",
          "model_module_version": "1.2.0",
          "state": {
            "_model_module": "@jupyter-widgets/base",
            "_model_module_version": "1.2.0",
            "_model_name": "LayoutModel",
            "_view_count": null,
            "_view_module": "@jupyter-widgets/base",
            "_view_module_version": "1.2.0",
            "_view_name": "LayoutView",
            "align_content": null,
            "align_items": null,
            "align_self": null,
            "border": null,
            "bottom": null,
            "display": null,
            "flex": null,
            "flex_flow": null,
            "grid_area": null,
            "grid_auto_columns": null,
            "grid_auto_flow": null,
            "grid_auto_rows": null,
            "grid_column": null,
            "grid_gap": null,
            "grid_row": null,
            "grid_template_areas": null,
            "grid_template_columns": null,
            "grid_template_rows": null,
            "height": null,
            "justify_content": null,
            "justify_items": null,
            "left": null,
            "margin": null,
            "max_height": null,
            "max_width": null,
            "min_height": null,
            "min_width": null,
            "object_fit": null,
            "object_position": null,
            "order": null,
            "overflow": null,
            "overflow_x": null,
            "overflow_y": null,
            "padding": null,
            "right": null,
            "top": null,
            "visibility": null,
            "width": null
          }
        },
        "8ff2f602b211420b9f5db334f7d7461f": {
          "model_module": "@jupyter-widgets/controls",
          "model_name": "DescriptionStyleModel",
          "model_module_version": "1.5.0",
          "state": {
            "_model_module": "@jupyter-widgets/controls",
            "_model_module_version": "1.5.0",
            "_model_name": "DescriptionStyleModel",
            "_view_count": null,
            "_view_module": "@jupyter-widgets/base",
            "_view_module_version": "1.2.0",
            "_view_name": "StyleView",
            "description_width": ""
          }
        },
        "86fb96bcd4a94676a14a4a92da36cea2": {
          "model_module": "@jupyter-widgets/controls",
          "model_name": "HBoxModel",
          "model_module_version": "1.5.0",
          "state": {
            "_dom_classes": [],
            "_model_module": "@jupyter-widgets/controls",
            "_model_module_version": "1.5.0",
            "_model_name": "HBoxModel",
            "_view_count": null,
            "_view_module": "@jupyter-widgets/controls",
            "_view_module_version": "1.5.0",
            "_view_name": "HBoxView",
            "box_style": "",
            "children": [
              "IPY_MODEL_d17d342523a444de912d785ff6b9b921",
              "IPY_MODEL_2780875b66e94fde8743b2dd2c71a701",
              "IPY_MODEL_fd3c419045a9453aa4321c6301e7e831"
            ],
            "layout": "IPY_MODEL_efc697c93ae04031a5b8f0b615170b79"
          }
        },
        "d17d342523a444de912d785ff6b9b921": {
          "model_module": "@jupyter-widgets/controls",
          "model_name": "HTMLModel",
          "model_module_version": "1.5.0",
          "state": {
            "_dom_classes": [],
            "_model_module": "@jupyter-widgets/controls",
            "_model_module_version": "1.5.0",
            "_model_name": "HTMLModel",
            "_view_count": null,
            "_view_module": "@jupyter-widgets/controls",
            "_view_module_version": "1.5.0",
            "_view_name": "HTMLView",
            "description": "",
            "description_tooltip": null,
            "layout": "IPY_MODEL_7522fdb37d1c4756acc8f8d7cc8a42a3",
            "placeholder": "​",
            "style": "IPY_MODEL_4cef620352794dd3bf72dfbb7c4eeb23",
            "value": "100%"
          }
        },
        "2780875b66e94fde8743b2dd2c71a701": {
          "model_module": "@jupyter-widgets/controls",
          "model_name": "FloatProgressModel",
          "model_module_version": "1.5.0",
          "state": {
            "_dom_classes": [],
            "_model_module": "@jupyter-widgets/controls",
            "_model_module_version": "1.5.0",
            "_model_name": "FloatProgressModel",
            "_view_count": null,
            "_view_module": "@jupyter-widgets/controls",
            "_view_module_version": "1.5.0",
            "_view_name": "ProgressView",
            "bar_style": "success",
            "description": "",
            "description_tooltip": null,
            "layout": "IPY_MODEL_851515e425b949fa802e5f78df23a0fe",
            "max": 469,
            "min": 0,
            "orientation": "horizontal",
            "style": "IPY_MODEL_c419aa440aa94f8f89ad0a673a2acd78",
            "value": 469
          }
        },
        "fd3c419045a9453aa4321c6301e7e831": {
          "model_module": "@jupyter-widgets/controls",
          "model_name": "HTMLModel",
          "model_module_version": "1.5.0",
          "state": {
            "_dom_classes": [],
            "_model_module": "@jupyter-widgets/controls",
            "_model_module_version": "1.5.0",
            "_model_name": "HTMLModel",
            "_view_count": null,
            "_view_module": "@jupyter-widgets/controls",
            "_view_module_version": "1.5.0",
            "_view_name": "HTMLView",
            "description": "",
            "description_tooltip": null,
            "layout": "IPY_MODEL_58cb9515593e445f8b1edb6c5efd4d96",
            "placeholder": "​",
            "style": "IPY_MODEL_068d1f606ffd48e0921d3d2bc5036c28",
            "value": " 469/469 [00:20&lt;00:00, 26.17it/s]"
          }
        },
        "efc697c93ae04031a5b8f0b615170b79": {
          "model_module": "@jupyter-widgets/base",
          "model_name": "LayoutModel",
          "model_module_version": "1.2.0",
          "state": {
            "_model_module": "@jupyter-widgets/base",
            "_model_module_version": "1.2.0",
            "_model_name": "LayoutModel",
            "_view_count": null,
            "_view_module": "@jupyter-widgets/base",
            "_view_module_version": "1.2.0",
            "_view_name": "LayoutView",
            "align_content": null,
            "align_items": null,
            "align_self": null,
            "border": null,
            "bottom": null,
            "display": null,
            "flex": null,
            "flex_flow": null,
            "grid_area": null,
            "grid_auto_columns": null,
            "grid_auto_flow": null,
            "grid_auto_rows": null,
            "grid_column": null,
            "grid_gap": null,
            "grid_row": null,
            "grid_template_areas": null,
            "grid_template_columns": null,
            "grid_template_rows": null,
            "height": null,
            "justify_content": null,
            "justify_items": null,
            "left": null,
            "margin": null,
            "max_height": null,
            "max_width": null,
            "min_height": null,
            "min_width": null,
            "object_fit": null,
            "object_position": null,
            "order": null,
            "overflow": null,
            "overflow_x": null,
            "overflow_y": null,
            "padding": null,
            "right": null,
            "top": null,
            "visibility": null,
            "width": null
          }
        },
        "7522fdb37d1c4756acc8f8d7cc8a42a3": {
          "model_module": "@jupyter-widgets/base",
          "model_name": "LayoutModel",
          "model_module_version": "1.2.0",
          "state": {
            "_model_module": "@jupyter-widgets/base",
            "_model_module_version": "1.2.0",
            "_model_name": "LayoutModel",
            "_view_count": null,
            "_view_module": "@jupyter-widgets/base",
            "_view_module_version": "1.2.0",
            "_view_name": "LayoutView",
            "align_content": null,
            "align_items": null,
            "align_self": null,
            "border": null,
            "bottom": null,
            "display": null,
            "flex": null,
            "flex_flow": null,
            "grid_area": null,
            "grid_auto_columns": null,
            "grid_auto_flow": null,
            "grid_auto_rows": null,
            "grid_column": null,
            "grid_gap": null,
            "grid_row": null,
            "grid_template_areas": null,
            "grid_template_columns": null,
            "grid_template_rows": null,
            "height": null,
            "justify_content": null,
            "justify_items": null,
            "left": null,
            "margin": null,
            "max_height": null,
            "max_width": null,
            "min_height": null,
            "min_width": null,
            "object_fit": null,
            "object_position": null,
            "order": null,
            "overflow": null,
            "overflow_x": null,
            "overflow_y": null,
            "padding": null,
            "right": null,
            "top": null,
            "visibility": null,
            "width": null
          }
        },
        "4cef620352794dd3bf72dfbb7c4eeb23": {
          "model_module": "@jupyter-widgets/controls",
          "model_name": "DescriptionStyleModel",
          "model_module_version": "1.5.0",
          "state": {
            "_model_module": "@jupyter-widgets/controls",
            "_model_module_version": "1.5.0",
            "_model_name": "DescriptionStyleModel",
            "_view_count": null,
            "_view_module": "@jupyter-widgets/base",
            "_view_module_version": "1.2.0",
            "_view_name": "StyleView",
            "description_width": ""
          }
        },
        "851515e425b949fa802e5f78df23a0fe": {
          "model_module": "@jupyter-widgets/base",
          "model_name": "LayoutModel",
          "model_module_version": "1.2.0",
          "state": {
            "_model_module": "@jupyter-widgets/base",
            "_model_module_version": "1.2.0",
            "_model_name": "LayoutModel",
            "_view_count": null,
            "_view_module": "@jupyter-widgets/base",
            "_view_module_version": "1.2.0",
            "_view_name": "LayoutView",
            "align_content": null,
            "align_items": null,
            "align_self": null,
            "border": null,
            "bottom": null,
            "display": null,
            "flex": null,
            "flex_flow": null,
            "grid_area": null,
            "grid_auto_columns": null,
            "grid_auto_flow": null,
            "grid_auto_rows": null,
            "grid_column": null,
            "grid_gap": null,
            "grid_row": null,
            "grid_template_areas": null,
            "grid_template_columns": null,
            "grid_template_rows": null,
            "height": null,
            "justify_content": null,
            "justify_items": null,
            "left": null,
            "margin": null,
            "max_height": null,
            "max_width": null,
            "min_height": null,
            "min_width": null,
            "object_fit": null,
            "object_position": null,
            "order": null,
            "overflow": null,
            "overflow_x": null,
            "overflow_y": null,
            "padding": null,
            "right": null,
            "top": null,
            "visibility": null,
            "width": null
          }
        },
        "c419aa440aa94f8f89ad0a673a2acd78": {
          "model_module": "@jupyter-widgets/controls",
          "model_name": "ProgressStyleModel",
          "model_module_version": "1.5.0",
          "state": {
            "_model_module": "@jupyter-widgets/controls",
            "_model_module_version": "1.5.0",
            "_model_name": "ProgressStyleModel",
            "_view_count": null,
            "_view_module": "@jupyter-widgets/base",
            "_view_module_version": "1.2.0",
            "_view_name": "StyleView",
            "bar_color": null,
            "description_width": ""
          }
        },
        "58cb9515593e445f8b1edb6c5efd4d96": {
          "model_module": "@jupyter-widgets/base",
          "model_name": "LayoutModel",
          "model_module_version": "1.2.0",
          "state": {
            "_model_module": "@jupyter-widgets/base",
            "_model_module_version": "1.2.0",
            "_model_name": "LayoutModel",
            "_view_count": null,
            "_view_module": "@jupyter-widgets/base",
            "_view_module_version": "1.2.0",
            "_view_name": "LayoutView",
            "align_content": null,
            "align_items": null,
            "align_self": null,
            "border": null,
            "bottom": null,
            "display": null,
            "flex": null,
            "flex_flow": null,
            "grid_area": null,
            "grid_auto_columns": null,
            "grid_auto_flow": null,
            "grid_auto_rows": null,
            "grid_column": null,
            "grid_gap": null,
            "grid_row": null,
            "grid_template_areas": null,
            "grid_template_columns": null,
            "grid_template_rows": null,
            "height": null,
            "justify_content": null,
            "justify_items": null,
            "left": null,
            "margin": null,
            "max_height": null,
            "max_width": null,
            "min_height": null,
            "min_width": null,
            "object_fit": null,
            "object_position": null,
            "order": null,
            "overflow": null,
            "overflow_x": null,
            "overflow_y": null,
            "padding": null,
            "right": null,
            "top": null,
            "visibility": null,
            "width": null
          }
        },
        "068d1f606ffd48e0921d3d2bc5036c28": {
          "model_module": "@jupyter-widgets/controls",
          "model_name": "DescriptionStyleModel",
          "model_module_version": "1.5.0",
          "state": {
            "_model_module": "@jupyter-widgets/controls",
            "_model_module_version": "1.5.0",
            "_model_name": "DescriptionStyleModel",
            "_view_count": null,
            "_view_module": "@jupyter-widgets/base",
            "_view_module_version": "1.2.0",
            "_view_name": "StyleView",
            "description_width": ""
          }
        }
      }
    }
  },
  "cells": [
    {
      "cell_type": "markdown",
      "metadata": {
        "id": "b00GdKCA9JN7"
      },
      "source": [
        "# Deep Learning with PyTorch : Build a Generative Adversarial Network"
      ]
    },
    {
      "cell_type": "markdown",
      "metadata": {
        "id": "xHs481nY8Bdg"
      },
      "source": [
        "![GANs.png](data:image/png;base64,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)"
      ]
    },
    {
      "cell_type": "code",
      "metadata": {
        "id": "_W4GVaDSlOSf"
      },
      "source": [
        "import torch\n",
        "torch.manual_seed(42)\n",
        "import numpy as np\n",
        "import matplotlib.pyplot as plt\n",
        "\n",
        "from tqdm.notebook import tqdm"
      ],
      "execution_count": 3,
      "outputs": []
    },
    {
      "cell_type": "markdown",
      "metadata": {
        "id": "HwklBE_vlOSi"
      },
      "source": [
        "# Configurations"
      ]
    },
    {
      "cell_type": "code",
      "metadata": {
        "id": "5oUWVmkulOSi"
      },
      "source": [
        "device = 'cuda'\n",
        "batch_size = 128\n",
        "noise_dim = 64\n",
        "\n",
        "#Optimizer Parameters\n",
        "\n",
        "lr = 0.002\n",
        "beta_1 = 0.5\n",
        "beta_2 = 0.09\n",
        "\n",
        "#Trainng variables\n",
        "\n",
        "epochs = 5"
      ],
      "execution_count": 2,
      "outputs": []
    },
    {
      "cell_type": "markdown",
      "metadata": {
        "id": "thRDmRxBlOSj"
      },
      "source": [
        "# Load MNIST Dataset"
      ]
    },
    {
      "cell_type": "code",
      "metadata": {
        "id": "FA70KkPWlOSj"
      },
      "source": [
        "from torchvision import datasets, transforms as t"
      ],
      "execution_count": 4,
      "outputs": []
    },
    {
      "cell_type": "code",
      "metadata": {
        "id": "4RPRGJDAlOSk"
      },
      "source": [
        "train_augs = t.Compose([\n",
        "    t.RandomRotation((-20,+20)),\n",
        "    t.ToTensor()\n",
        "])"
      ],
      "execution_count": 5,
      "outputs": []
    },
    {
      "cell_type": "code",
      "metadata": {
        "id": "ORt5m1TvlOSk",
        "colab": {
          "base_uri": "https://localhost:8080/"
        },
        "outputId": "c55c2a94-37cd-40ec-d729-653fc7e9ac59"
      },
      "source": [
        "trainset = datasets.MNIST('MNIST/', download = True, train = True, transform = train_augs)"
      ],
      "execution_count": 6,
      "outputs": [
        {
          "output_type": "stream",
          "name": "stdout",
          "text": [
            "Downloading http://yann.lecun.com/exdb/mnist/train-images-idx3-ubyte.gz\n",
            "Failed to download (trying next):\n",
            "HTTP Error 403: Forbidden\n",
            "\n",
            "Downloading https://ossci-datasets.s3.amazonaws.com/mnist/train-images-idx3-ubyte.gz\n",
            "Downloading https://ossci-datasets.s3.amazonaws.com/mnist/train-images-idx3-ubyte.gz to MNIST/MNIST/raw/train-images-idx3-ubyte.gz\n"
          ]
        },
        {
          "output_type": "stream",
          "name": "stderr",
          "text": [
            "100%|██████████| 9912422/9912422 [00:01<00:00, 5082282.83it/s]\n"
          ]
        },
        {
          "output_type": "stream",
          "name": "stdout",
          "text": [
            "Extracting MNIST/MNIST/raw/train-images-idx3-ubyte.gz to MNIST/MNIST/raw\n",
            "\n",
            "Downloading http://yann.lecun.com/exdb/mnist/train-labels-idx1-ubyte.gz\n",
            "Failed to download (trying next):\n",
            "HTTP Error 403: Forbidden\n",
            "\n",
            "Downloading https://ossci-datasets.s3.amazonaws.com/mnist/train-labels-idx1-ubyte.gz\n",
            "Downloading https://ossci-datasets.s3.amazonaws.com/mnist/train-labels-idx1-ubyte.gz to MNIST/MNIST/raw/train-labels-idx1-ubyte.gz\n"
          ]
        },
        {
          "output_type": "stream",
          "name": "stderr",
          "text": [
            "100%|██████████| 28881/28881 [00:00<00:00, 133673.02it/s]\n"
          ]
        },
        {
          "output_type": "stream",
          "name": "stdout",
          "text": [
            "Extracting MNIST/MNIST/raw/train-labels-idx1-ubyte.gz to MNIST/MNIST/raw\n",
            "\n",
            "Downloading http://yann.lecun.com/exdb/mnist/t10k-images-idx3-ubyte.gz\n",
            "Failed to download (trying next):\n",
            "HTTP Error 403: Forbidden\n",
            "\n",
            "Downloading https://ossci-datasets.s3.amazonaws.com/mnist/t10k-images-idx3-ubyte.gz\n",
            "Downloading https://ossci-datasets.s3.amazonaws.com/mnist/t10k-images-idx3-ubyte.gz to MNIST/MNIST/raw/t10k-images-idx3-ubyte.gz\n"
          ]
        },
        {
          "output_type": "stream",
          "name": "stderr",
          "text": [
            "100%|██████████| 1648877/1648877 [00:04<00:00, 366107.75it/s]\n"
          ]
        },
        {
          "output_type": "stream",
          "name": "stdout",
          "text": [
            "Extracting MNIST/MNIST/raw/t10k-images-idx3-ubyte.gz to MNIST/MNIST/raw\n",
            "\n",
            "Downloading http://yann.lecun.com/exdb/mnist/t10k-labels-idx1-ubyte.gz\n",
            "Failed to download (trying next):\n",
            "HTTP Error 403: Forbidden\n",
            "\n",
            "Downloading https://ossci-datasets.s3.amazonaws.com/mnist/t10k-labels-idx1-ubyte.gz\n",
            "Downloading https://ossci-datasets.s3.amazonaws.com/mnist/t10k-labels-idx1-ubyte.gz to MNIST/MNIST/raw/t10k-labels-idx1-ubyte.gz\n"
          ]
        },
        {
          "output_type": "stream",
          "name": "stderr",
          "text": [
            "100%|██████████| 4542/4542 [00:00<00:00, 4627284.13it/s]"
          ]
        },
        {
          "output_type": "stream",
          "name": "stdout",
          "text": [
            "Extracting MNIST/MNIST/raw/t10k-labels-idx1-ubyte.gz to MNIST/MNIST/raw\n",
            "\n"
          ]
        },
        {
          "output_type": "stream",
          "name": "stderr",
          "text": [
            "\n"
          ]
        }
      ]
    },
    {
      "cell_type": "code",
      "metadata": {
        "id": "hN8OGFATlOSk",
        "colab": {
          "base_uri": "https://localhost:8080/",
          "height": 448
        },
        "outputId": "915cb28a-7f2b-48df-fa76-2fce350db037"
      },
      "source": [
        "image, label = trainset[45390]\n",
        "\n",
        "plt.imshow(image.squeeze(), cmap = 'gray')"
      ],
      "execution_count": 7,
      "outputs": [
        {
          "output_type": "execute_result",
          "data": {
            "text/plain": [
              "<matplotlib.image.AxesImage at 0x7c1d29a798a0>"
            ]
          },
          "metadata": {},
          "execution_count": 7
        },
        {
          "output_type": "display_data",
          "data": {
            "text/plain": [
              "<Figure size 640x480 with 1 Axes>"
            ],
            "image/png": "[encoded data removed]"
          },
          "metadata": {}
        }
      ]
    },
    {
      "cell_type": "code",
      "source": [
        "print(\"The total number of images in the training set are : \", len(trainset))"
      ],
      "metadata": {
        "colab": {
          "base_uri": "https://localhost:8080/"
        },
        "id": "BYRiW56ygC7H",
        "outputId": "1c207a2d-21a2-4db2-8c52-3a591554cd1e"
      },
      "execution_count": 8,
      "outputs": [
        {
          "output_type": "stream",
          "name": "stdout",
          "text": [
            "The total number of images in the training set are :  60000\n"
          ]
        }
      ]
    },
    {
      "cell_type": "markdown",
      "metadata": {
        "id": "TRSk3zV1lOSl"
      },
      "source": [
        "# Load Dataset Into Batches"
      ]
    },
    {
      "cell_type": "code",
      "metadata": {
        "id": "LaRQzZhr7-HF"
      },
      "source": [
        "from torch.utils.data import DataLoader\n",
        "from torchvision.utils import make_grid"
      ],
      "execution_count": 9,
      "outputs": []
    },
    {
      "cell_type": "code",
      "metadata": {
        "id": "yDNysctVlOSl"
      },
      "source": [
        "trainloader = DataLoader(trainset, batch_size = batch_size, shuffle = True)"
      ],
      "execution_count": 10,
      "outputs": []
    },
    {
      "cell_type": "code",
      "source": [
        "print(\"The total number of batches in trainloader are : \", len(trainloader))"
      ],
      "metadata": {
        "colab": {
          "base_uri": "https://localhost:8080/"
        },
        "id": "hu1ydfF1hOoA",
        "outputId": "0a4eb001-62ad-4d0e-c655-f0f5d41b97d2"
      },
      "execution_count": 11,
      "outputs": [
        {
          "output_type": "stream",
          "name": "stdout",
          "text": [
            "The total number of batches in trainloader are :  469\n"
          ]
        }
      ]
    },
    {
      "cell_type": "code",
      "metadata": {
        "id": "Me1C0THUlOSm",
        "colab": {
          "base_uri": "https://localhost:8080/"
        },
        "outputId": "0e75a5df-3612-47a0-9ec7-3139d13d586f"
      },
      "source": [
        "dataiter = iter(trainloader)\n",
        "\n",
        "images, _ = next(dataiter)\n",
        "\n",
        "print(images.shape)"
      ],
      "execution_count": 12,
      "outputs": [
        {
          "output_type": "stream",
          "name": "stdout",
          "text": [
            "torch.Size([128, 1, 28, 28])\n"
          ]
        }
      ]
    },
    {
      "cell_type": "code",
      "metadata": {
        "id": "3R3XRbXBlOSm"
      },
      "source": [
        "# 'show_tensor_images' : function is used to plot some of images from the batch\n",
        "\n",
        "def show_tensor_images(tensor_img, num_images = 16, size=(1, 28, 28)):\n",
        "    unflat_img = tensor_img.detach().cpu()\n",
        "    img_grid = make_grid(unflat_img[:num_images], nrow=4)\n",
        "    plt.imshow(img_grid.permute(1, 2, 0).squeeze())\n",
        "    plt.show()"
      ],
      "execution_count": 13,
      "outputs": []
    },
    {
      "cell_type": "code",
      "metadata": {
        "id": "iVLG2TA4lOSm",
        "colab": {
          "base_uri": "https://localhost:8080/",
          "height": 434
        },
        "outputId": "29584111-cbd6-4b4a-b127-97ad1cfbf3b5"
      },
      "source": [
        "show_tensor_images(images, num_images = 20)"
      ],
      "execution_count": 14,
      "outputs": [
        {
          "output_type": "display_data",
          "data": {
            "text/plain": [
              "<Figure size 640x480 with 1 Axes>"
            ],
            "image/png": "[encoded data removed]"
          },
          "metadata": {}
        }
      ]
    },
    {
      "cell_type": "markdown",
      "metadata": {
        "id": "Eb1rVzijlOSn"
      },
      "source": [
        "# Create Discriminator Network"
      ]
    },
    {
      "cell_type": "code",
      "metadata": {
        "id": "22qSpIBlknec",
        "colab": {
          "base_uri": "https://localhost:8080/"
        },
        "outputId": "40c7d4f8-babd-4e96-b169-6661bbe910a1"
      },
      "source": [
        "#In case if torch summary is not installed\n",
        "\n",
        "!pip install torchsummary\n",
        "\n",
        "from torch import nn\n",
        "from torchsummary import summary"
      ],
      "execution_count": 15,
      "outputs": [
        {
          "output_type": "stream",
          "name": "stdout",
          "text": [
            "Requirement already satisfied: torchsummary in /usr/local/lib/python3.10/dist-packages (1.5.1)\n"
          ]
        }
      ]
    },
    {
      "cell_type": "code",
      "metadata": {
        "id": "JtQoJvmrAxTj",
        "colab": {
          "base_uri": "https://localhost:8080/",
          "height": 127
        },
        "outputId": "75d4174b-f8c2-4804-ea64-52f4c322388e"
      },
      "source": [
        "'''\n",
        "\n",
        "Network : Discriminator\n",
        "\n",
        "input : (bs, 1, 28, 28)\n",
        "      |                                                                                               ---- SUMMARY ----\n",
        "      V\n",
        "Conv2d( in_channels = 1, out_channels = 16, kernel_size = (3,3), stride = 2)                           #(bs, 16, 13, 13)\n",
        "BatchNorm2d()                                                                                          #(bs, 16, 13, 13)\n",
        "LeakyReLU()                                                                                            #(bs, 16, 13, 13)\n",
        "      |\n",
        "      V\n",
        "Conv2d( in_channels = 16, out_channels = 32, kernel_size = (5,5), stride = 2)                          #(bs, 32, 5, 5)\n",
        "BatchNorm2d()                                                                                          #(bs, 32, 5, 5)\n",
        "LeakyReLU()                                                                                            #(bs, 32, 5, 5)\n",
        "      |\n",
        "      V\n",
        "Conv2d( in_channels = 32, out_channels = 64, kernel_size = (5,5), stride = 2)                          #(bs, 64, 1, 1)\n",
        "BatchNorm2d()                                                                                          #(bs, 64, 1, 1)\n",
        "LeakyReLU()                                                                                            #(bs, 64, 1, 1)\n",
        "      |\n",
        "      V\n",
        "Flatten()                                                                                              #(bs, 64)\n",
        "Linear(in_features = 64, out_features = 1)                                                             #(bs, 1)\n",
        "\n",
        "'''"
      ],
      "execution_count": 16,
      "outputs": [
        {
          "output_type": "execute_result",
          "data": {
            "text/plain": [
              "'\\n\\nNetwork : Discriminator\\n\\ninput : (bs, 1, 28, 28)\\n      |                                                                                               ---- SUMMARY ----\\n      V\\nConv2d( in_channels = 1, out_channels = 16, kernel_size = (3,3), stride = 2)                           #(bs, 16, 13, 13)\\nBatchNorm2d()                                                                                          #(bs, 16, 13, 13)\\nLeakyReLU()                                                                                            #(bs, 16, 13, 13)\\n      |\\n      V\\nConv2d( in_channels = 16, out_channels = 32, kernel_size = (5,5), stride = 2)                          #(bs, 32, 5, 5)\\nBatchNorm2d()                                                                                          #(bs, 32, 5, 5)\\nLeakyReLU()                                                                                            #(bs, 32, 5, 5)\\n      |\\n      V\\nConv2d( in_channels = 32, out_channels = 64, kernel_size = (5,5), stride = 2)                          #(bs, 64, 1, 1)\\nBatchNorm2d()                                                                                          #(bs, 64, 1, 1)\\nLeakyReLU()                                                                                            #(bs, 64, 1, 1)\\n      |\\n      V\\nFlatten()                                                                                              #(bs, 64)\\nLinear(in_features = 64, out_features = 1)                                                             #(bs, 1)\\n\\n'"
            ],
            "application/vnd.google.colaboratory.intrinsic+json": {
              "type": "string"
            }
          },
          "metadata": {},
          "execution_count": 16
        }
      ]
    },
    {
      "cell_type": "code",
      "metadata": {
        "id": "4VpIDdx9lOSn"
      },
      "source": [
        "def get_disc_block(in_channels, out_channels, kernel_size, stride):\n",
        "  return nn.Sequential(\n",
        "      nn.Conv2d(in_channels, out_channels, kernel_size, stride),\n",
        "      nn.BatchNorm2d(out_channels),\n",
        "      nn.LeakyReLU(0.2)\n",
        "  )"
      ],
      "execution_count": 17,
      "outputs": []
    },
    {
      "cell_type": "code",
      "metadata": {
        "id": "Bq_aX7EslOSo"
      },
      "source": [
        "class Discriminator(nn.Module):\n",
        "\n",
        "  def __init__(self):\n",
        "    super(Discriminator, self).__init__()\n",
        "\n",
        "    self.block_1 = get_disc_block(1,16,(3,3), 2)\n",
        "    self.block_2 = get_disc_block(16,32,(5,5),2)\n",
        "    self.block_3 = get_disc_block(32,64,(5,5),2)\n",
        "\n",
        "    self.flatten = nn.Flatten()\n",
        "    self.linear = nn.Linear(in_features = 64, out_features = 1)\n",
        "\n",
        "  def forward(self, images):\n",
        "    x1 = self.block_1(images)\n",
        "    x2 = self.block_2(x1)\n",
        "    x3 = self.block_3(x2)\n",
        "\n",
        "    x4 = self.flatten(x3)\n",
        "    x5 = self.linear(x4)\n",
        "\n",
        "    return x5"
      ],
      "execution_count": 18,
      "outputs": []
    },
    {
      "cell_type": "code",
      "metadata": {
        "id": "RqZFM47slOSo",
        "colab": {
          "base_uri": "https://localhost:8080/"
        },
        "outputId": "a2501d2e-6f3d-4057-f932-1e7a30132d4e"
      },
      "source": [
        "D = Discriminator()\n",
        "D.to(device)\n",
        "\n",
        "summary(D, input_size=(1,28,28))"
      ],
      "execution_count": 19,
      "outputs": [
        {
          "output_type": "stream",
          "name": "stdout",
          "text": [
            "----------------------------------------------------------------\n",
            "        Layer (type)               Output Shape         Param #\n",
            "================================================================\n",
            "            Conv2d-1           [-1, 16, 13, 13]             160\n",
            "       BatchNorm2d-2           [-1, 16, 13, 13]              32\n",
            "         LeakyReLU-3           [-1, 16, 13, 13]               0\n",
            "            Conv2d-4             [-1, 32, 5, 5]          12,832\n",
            "       BatchNorm2d-5             [-1, 32, 5, 5]              64\n",
            "         LeakyReLU-6             [-1, 32, 5, 5]               0\n",
            "            Conv2d-7             [-1, 64, 1, 1]          51,264\n",
            "       BatchNorm2d-8             [-1, 64, 1, 1]             128\n",
            "         LeakyReLU-9             [-1, 64, 1, 1]               0\n",
            "          Flatten-10                   [-1, 64]               0\n",
            "           Linear-11                    [-1, 1]              65\n",
            "================================================================\n",
            "Total params: 64,545\n",
            "Trainable params: 64,545\n",
            "Non-trainable params: 0\n",
            "----------------------------------------------------------------\n",
            "Input size (MB): 0.00\n",
            "Forward/backward pass size (MB): 0.08\n",
            "Params size (MB): 0.25\n",
            "Estimated Total Size (MB): 0.33\n",
            "----------------------------------------------------------------\n"
          ]
        }
      ]
    },
    {
      "cell_type": "markdown",
      "metadata": {
        "id": "gaSM5ky-lOSp"
      },
      "source": [
        "# Create Generator Network"
      ]
    },
    {
      "cell_type": "code",
      "metadata": {
        "id": "xeBHYF5IAzFm",
        "colab": {
          "base_uri": "https://localhost:8080/",
          "height": 108
        },
        "outputId": "0cfb8858-0867-4af8-9ab8-ed1e798e8221"
      },
      "source": [
        "'''\n",
        "\n",
        "Network : Generator\n",
        "\n",
        "z_dim = 64\n",
        "input : (bs,z_dim)\n",
        "\n",
        "      |\n",
        "      | Reshape\n",
        "      V\n",
        "\n",
        "input : (bs, channel, height, width) -> (bs, z_dim , 1 , 1)\n",
        "      |                                                                                               ---- SUMMARY ----\n",
        "      V\n",
        "ConvTranspose2d( in_channels = z_dim, out_channels = 256, kernel_size = (3,3), stride = 2)             #(bs, 256, 3, 3)\n",
        "BatchNorm2d()                                                                                          #(bs, 256, 3, 3)\n",
        "ReLU()                                                                                                 #(bs, 256, 3, 3)\n",
        "      |\n",
        "      V\n",
        "ConvTranspose2d( in_channels = 256, out_channels = 128, kernel_size = (4,4), stride = 1)               #(bs, 128, 6, 6)\n",
        "BatchNorm2d()                                                                                          #(bs, 128, 6, 6)\n",
        "ReLU()                                                                                                 #(bs, 128, 6, 6)\n",
        "      |\n",
        "      V\n",
        "ConvTranspose2d( in_channels = 128, out_channels = 64, kernel_size = (3,3), stride = 2)                #(bs, 64, 13, 13)\n",
        "BatchNorm2d()                                                                                          #(bs, 64, 13, 13)\n",
        "ReLU()                                                                                                 #(bs, 64, 13, 13)\n",
        "      |\n",
        "      V\n",
        "ConvTranspose2d( in_channels = 64, out_channels = 1, kernel_size = (4,4), stride = 2)                  #(bs, 1, 28, 28)\n",
        "Tanh()                                                                                                 #(bs, 1, 28, 28)\n",
        "\n",
        "'''"
      ],
      "execution_count": 20,
      "outputs": [
        {
          "output_type": "execute_result",
          "data": {
            "text/plain": [
              "'\\n\\nNetwork : Generator\\n\\nz_dim = 64\\ninput : (bs,z_dim)\\n\\n      |\\n      | Reshape\\n      V\\n\\ninput : (bs, channel, height, width) -> (bs, z_dim , 1 , 1)\\n      |                                                                                               ---- SUMMARY ----\\n      V\\nConvTranspose2d( in_channels = z_dim, out_channels = 256, kernel_size = (3,3), stride = 2)             #(bs, 256, 3, 3)\\nBatchNorm2d()                                                                                          #(bs, 256, 3, 3)\\nReLU()                                                                                                 #(bs, 256, 3, 3)\\n      |\\n      V\\nConvTranspose2d( in_channels = 256, out_channels = 128, kernel_size = (4,4), stride = 1)               #(bs, 128, 6, 6)\\nBatchNorm2d()                                                                                          #(bs, 128, 6, 6)\\nReLU()                                                                                                 #(bs, 128, 6, 6)\\n      |\\n      V\\nConvTranspose2d( in_channels = 128, out_channels = 64, kernel_size = (3,3), stride = 2)                #(bs, 64, 13, 13)\\nBatchNorm2d()                                                                                          #(bs, 64, 13, 13)\\nReLU()                                                                                                 #(bs, 64, 13, 13)\\n      |\\n      V\\nConvTranspose2d( in_channels = 64, out_channels = 1, kernel_size = (4,4), stride = 2)                  #(bs, 1, 28, 28)\\nTanh()                                                                                                 #(bs, 1, 28, 28)\\n\\n'"
            ],
            "application/vnd.google.colaboratory.intrinsic+json": {
              "type": "string"
            }
          },
          "metadata": {},
          "execution_count": 20
        }
      ]
    },
    {
      "cell_type": "code",
      "metadata": {
        "id": "rmGinLUjlOSp"
      },
      "source": [
        "def gen_block(in_channels, out_channels, kernel_size, stride, final_block = False):\n",
        "  if final_block == True:\n",
        "    return nn.Sequential(\n",
        "        nn.ConvTranspose2d(in_channels, out_channels, kernel_size, stride),\n",
        "        nn.Tanh()\n",
        "    )\n",
        "  return nn.Sequential(\n",
        "      nn.ConvTranspose2d(in_channels, out_channels, kernel_size, stride),\n",
        "      nn.BatchNorm2d(out_channels),\n",
        "      nn.ReLU()\n",
        "  )"
      ],
      "execution_count": 21,
      "outputs": []
    },
    {
      "cell_type": "code",
      "metadata": {
        "id": "qNcWK2malOSq"
      },
      "source": [
        "class Generator(nn.Module):\n",
        "\n",
        "  def __init__(self, noise_dim):\n",
        "    super(Generator, self).__init__()\n",
        "\n",
        "    self.noise_dim = noise_dim\n",
        "    self.block_1 = gen_block(noise_dim, 256, (3,3), 2)\n",
        "    self.block_2 = gen_block(256, 128, (4,4), 1)\n",
        "    self.block_3 = gen_block(128, 64, (3,3), 2)\n",
        "\n",
        "    self.block_4 = gen_block(64, 1, (4,4), 2, final_block = True)\n",
        "\n",
        "  def forward(self, random_noise_vector):\n",
        "    x = random_noise_vector.view(-1, self.noise_dim, 1, 1)\n",
        "\n",
        "    x1 = self.block_1(x)\n",
        "    x2 = self.block_2(x1)\n",
        "    x3 = self.block_3(x2)\n",
        "    x4 = self.block_4(x3)\n",
        "\n",
        "    return x4"
      ],
      "execution_count": 22,
      "outputs": []
    },
    {
      "cell_type": "code",
      "metadata": {
        "id": "pyOp5x61lOSr",
        "scrolled": true,
        "colab": {
          "base_uri": "https://localhost:8080/"
        },
        "outputId": "0b8ba18e-cb6a-4e1a-e0c4-6f87df827304"
      },
      "source": [
        "G = Generator(noise_dim)\n",
        "G.to(device)\n",
        "\n",
        "summary(G, input_size = (1, noise_dim))"
      ],
      "execution_count": 23,
      "outputs": [
        {
          "output_type": "stream",
          "name": "stdout",
          "text": [
            "----------------------------------------------------------------\n",
            "        Layer (type)               Output Shape         Param #\n",
            "================================================================\n",
            "   ConvTranspose2d-1            [-1, 256, 3, 3]         147,712\n",
            "       BatchNorm2d-2            [-1, 256, 3, 3]             512\n",
            "              ReLU-3            [-1, 256, 3, 3]               0\n",
            "   ConvTranspose2d-4            [-1, 128, 6, 6]         524,416\n",
            "       BatchNorm2d-5            [-1, 128, 6, 6]             256\n",
            "              ReLU-6            [-1, 128, 6, 6]               0\n",
            "   ConvTranspose2d-7           [-1, 64, 13, 13]          73,792\n",
            "       BatchNorm2d-8           [-1, 64, 13, 13]             128\n",
            "              ReLU-9           [-1, 64, 13, 13]               0\n",
            "  ConvTranspose2d-10            [-1, 1, 28, 28]           1,025\n",
            "             Tanh-11            [-1, 1, 28, 28]               0\n",
            "================================================================\n",
            "Total params: 747,841\n",
            "Trainable params: 747,841\n",
            "Non-trainable params: 0\n",
            "----------------------------------------------------------------\n",
            "Input size (MB): 0.00\n",
            "Forward/backward pass size (MB): 0.42\n",
            "Params size (MB): 2.85\n",
            "Estimated Total Size (MB): 3.27\n",
            "----------------------------------------------------------------\n"
          ]
        }
      ]
    },
    {
      "cell_type": "code",
      "metadata": {
        "id": "I6v-NfQlVy8v"
      },
      "source": [
        "# Replace Random initialized weights to Normal weights\n",
        "\n",
        "def weights_init(m):\n",
        "    if isinstance(m, nn.Conv2d) or isinstance(m, nn.ConvTranspose2d):\n",
        "        nn.init.normal_(m.weight, 0.0, 0.02)\n",
        "    if isinstance(m, nn.BatchNorm2d):\n",
        "        nn.init.normal_(m.weight, 0.0, 0.02)\n",
        "        nn.init.constant_(m.bias, 0)"
      ],
      "execution_count": 24,
      "outputs": []
    },
    {
      "cell_type": "code",
      "metadata": {
        "id": "cpMoglmaUPnt"
      },
      "source": [
        "D = D.apply(weights_init)\n",
        "G = G.apply(weights_init)"
      ],
      "execution_count": 25,
      "outputs": []
    },
    {
      "cell_type": "markdown",
      "metadata": {
        "id": "WLGG2YkRlOSr"
      },
      "source": [
        "# Create Loss Function and Load Optimizer"
      ]
    },
    {
      "cell_type": "code",
      "metadata": {
        "id": "bOvcqBuylOSs"
      },
      "source": [
        "def real_loss(disc_pred):\n",
        "  criterion = nn.BCEWithLogitsLoss()\n",
        "  ground_truth = torch.ones_like(disc_pred)\n",
        "  loss = criterion(disc_pred, ground_truth)\n",
        "\n",
        "  return loss\n",
        "\n",
        "def fake_loss(disc_pred):\n",
        "  criterion = nn.BCEWithLogitsLoss()\n",
        "  ground_truth = torch.zeros_like(disc_pred)\n",
        "  loss = criterion(disc_pred, ground_truth)\n",
        "\n",
        "  return loss"
      ],
      "execution_count": 26,
      "outputs": []
    },
    {
      "cell_type": "code",
      "metadata": {
        "id": "96EEpkp9lOSs"
      },
      "source": [
        "D_Opt = torch.optim.Adam(D.parameters(), lr = lr, betas = (beta_1, beta_2))\n",
        "G_Opt = torch.optim.Adam(G.parameters(), lr = lr, betas = (beta_1, beta_2))"
      ],
      "execution_count": 27,
      "outputs": []
    },
    {
      "cell_type": "markdown",
      "metadata": {
        "id": "kF_k10LElOSt"
      },
      "source": [
        "# Training Loop"
      ]
    },
    {
      "cell_type": "code",
      "metadata": {
        "id": "TmPLh41ulOSt",
        "colab": {
          "base_uri": "https://localhost:8080/",
          "height": 1000,
          "referenced_widgets": [
            "6ea2211c25a344e2bb4b4fbe9a1f9371",
            "42c3a35e3ed54268a22ec73846d679c2",
            "33505f164cfd44d58be3411ab2525d0d",
            "4ffd1819649643cf8d219e44a18fd8c2",
            "7aa5b633d49b4be4b4b247db57ee4283",
            "aaca87a47b4d4d118ff0c7209059cf4f",
            "bb5ca7cfdb97407c99846dfad04aba26",
            "68476530e9b84841aa13c9b5d69a23b8",
            "6757e951f6f945e9ba013666995032ea",
            "09f3e0047b8d42ffb5460da5461b23a5",
            "f1a56b5144a0460aab9f30db4789f1c6",
            "514752a972f64501905da467da5401fd",
            "72b1dc1f2028407f915c8f809539f558",
            "0ed4865becdb446683fe8c387a5607b1",
            "0a28633e442243aa85647665e36836cf",
            "062c36cfbb40456081b64f2bf4e23f99",
            "9b92c9ddd44b488d9bf1cfc4e906a665",
            "ec4b604569944126891a8307dd5fff23",
            "1308d8895d7343a0a4c0cfffea53ef02",
            "67cc21cfa80f47199a95a218a232833a",
            "975dbaf325a64643aa4228c166b33cf8",
            "390f136e1c2c4dc1bf699c9800a676f2",
            "d0b19463a5bf45d09f9e4b9d99e9837d",
            "c926581204ef4137926ae42ad607adf9",
            "9b1572083a6f4f8e9097f307d4e1001a",
            "be8f765ceae54fee925b1c2915a11a74",
            "c5b5e543207446dea819c89d679bc04c",
            "c620d3b888504e9f96d4f2291de2515b",
            "47e0654707c74654b388b2a66a05ad1f",
            "502e179323ad4bb88dbd4b75018805e2",
            "689885fd8d4c4da59bddc8d05520a62c",
            "0a98f264ffc648c2af32750c57188a8a",
            "e3ad6a6b906a41c0b20f883c75bfcfd8",
            "de38ff2cd8ea4a649cd990d5b5976c07",
            "368c0ca4dccf486f89e08248cd2a88bf",
            "095f19fde85949ca80d6243e5cc9219f",
            "47b302a3a804488b88f19058466fc143",
            "ab2bb9bda86e4c4a994f76ae60f87a44",
            "3a06cd6e2ce642538eec221c89ef4462",
            "def941d91ffa4fbb801f8a1a16929734",
            "ea7f65803b2647ec9a375043f3ec552e",
            "7553af8a035746398d8f0bed63bd4aaa",
            "a10bcc7d1d8b47a49ab94e54bde2df2e",
            "8ff2f602b211420b9f5db334f7d7461f",
            "86fb96bcd4a94676a14a4a92da36cea2",
            "d17d342523a444de912d785ff6b9b921",
            "2780875b66e94fde8743b2dd2c71a701",
            "fd3c419045a9453aa4321c6301e7e831",
            "efc697c93ae04031a5b8f0b615170b79",
            "7522fdb37d1c4756acc8f8d7cc8a42a3",
            "4cef620352794dd3bf72dfbb7c4eeb23",
            "851515e425b949fa802e5f78df23a0fe",
            "c419aa440aa94f8f89ad0a673a2acd78",
            "58cb9515593e445f8b1edb6c5efd4d96",
            "068d1f606ffd48e0921d3d2bc5036c28"
          ]
        },
        "outputId": "ff87e2f6-478e-4fd2-a200-e6bd13210e82"
      },
      "source": [
        "for i in range(epochs):\n",
        "\n",
        "  total_d_loss = 0.0\n",
        "  total_g_loss = 0.0\n",
        "\n",
        "  for real_img, _ in tqdm(trainloader):\n",
        "    real_img = real_img.to(device)\n",
        "    noise = torch.randn(batch_size, noise_dim, device = device)\n",
        "\n",
        "    #find loss and update the weights for Discriminator\n",
        "    D_Opt.zero_grad()\n",
        "\n",
        "    fake_img = G(noise)\n",
        "    D_pred = D(fake_img)\n",
        "    D_fake_loss = fake_loss(D_pred)\n",
        "\n",
        "    D_pred = D(real_img)\n",
        "    D_real_loss = real_loss(D_pred)\n",
        "\n",
        "    D_loss = (D_fake_loss + D_real_loss)/2\n",
        "\n",
        "    total_d_loss += D_loss.item()\n",
        "\n",
        "    D_loss.backward()\n",
        "    D_Opt.step()\n",
        "\n",
        "    #find loss and update weights for generator\n",
        "    G_Opt.zero_grad()\n",
        "\n",
        "    noise = torch.randn(batch_size, noise_dim, device = device)\n",
        "\n",
        "    fake_img = G(noise)\n",
        "    D_pred = D(fake_img)\n",
        "    G_loss = real_loss(D_pred)\n",
        "\n",
        "    total_g_loss += G_loss.item()\n",
        "\n",
        "    G_loss.backward()\n",
        "    G_Opt.step()\n",
        "\n",
        "  avg_d_loss = total_d_loss / len(trainloader)\n",
        "  avg_g_loss = total_g_loss / len(trainloader)\n",
        "\n",
        "  print(\"Epoch : {} | Discriminator loss : {} | Generator Loss : {}\".format(i+1, avg_d_loss, avg_g_loss))\n",
        "  show_tensor_images(fake_img)"
      ],
      "execution_count": 28,
      "outputs": [
        {
          "output_type": "display_data",
          "data": {
            "text/plain": [
              "  0%|          | 0/469 [00:00<?, ?it/s]"
            ],
            "application/vnd.jupyter.widget-view+json": {
              "version_major": 2,
              "version_minor": 0,
              "model_id": "6ea2211c25a344e2bb4b4fbe9a1f9371"
            }
          },
          "metadata": {}
        },
        {
          "output_type": "stream",
          "name": "stderr",
          "text": [
            "WARNING:matplotlib.image:Clipping input data to the valid range for imshow with RGB data ([0..1] for floats or [0..255] for integers).\n"
          ]
        },
        {
          "output_type": "stream",
          "name": "stdout",
          "text": [
            "Epoch : 1 | Discriminator loss : 0.6829010747643168 | Generator Loss : 0.7203350377235331\n"
          ]
        },
        {
          "output_type": "display_data",
          "data": {
            "text/plain": [
              "<Figure size 640x480 with 1 Axes>"
            ],
            "image/png": "[encoded data removed]"
          },
          "metadata": {}
        },
        {
          "output_type": "display_data",
          "data": {
            "text/plain": [
              "  0%|          | 0/469 [00:00<?, ?it/s]"
            ],
            "application/vnd.jupyter.widget-view+json": {
              "version_major": 2,
              "version_minor": 0,
              "model_id": "514752a972f64501905da467da5401fd"
            }
          },
          "metadata": {}
        },
        {
          "output_type": "stream",
          "name": "stderr",
          "text": [
            "WARNING:matplotlib.image:Clipping input data to the valid range for imshow with RGB data ([0..1] for floats or [0..255] for integers).\n"
          ]
        },
        {
          "output_type": "stream",
          "name": "stdout",
          "text": [
            "Epoch : 2 | Discriminator loss : 0.6706670104567685 | Generator Loss : 0.74262595469001\n"
          ]
        },
        {
          "output_type": "display_data",
          "data": {
            "text/plain": [
              "<Figure size 640x480 with 1 Axes>"
            ],
            "image/png": "[encoded data removed]"
          },
          "metadata": {}
        },
        {
          "output_type": "display_data",
          "data": {
            "text/plain": [
              "  0%|          | 0/469 [00:00<?, ?it/s]"
            ],
            "application/vnd.jupyter.widget-view+json": {
              "version_major": 2,
              "version_minor": 0,
              "model_id": "d0b19463a5bf45d09f9e4b9d99e9837d"
            }
          },
          "metadata": {}
        },
        {
          "output_type": "stream",
          "name": "stderr",
          "text": [
            "WARNING:matplotlib.image:Clipping input data to the valid range for imshow with RGB data ([0..1] for floats or [0..255] for integers).\n"
          ]
        },
        {
          "output_type": "stream",
          "name": "stdout",
          "text": [
            "Epoch : 3 | Discriminator loss : 0.6669314629487646 | Generator Loss : 0.7583004316287254\n"
          ]
        },
        {
          "output_type": "display_data",
          "data": {
            "text/plain": [
              "<Figure size 640x480 with 1 Axes>"
            ],
            "image/png": "[encoded data removed]"
          },
          "metadata": {}
        },
        {
          "output_type": "display_data",
          "data": {
            "text/plain": [
              "  0%|          | 0/469 [00:00<?, ?it/s]"
            ],
            "application/vnd.jupyter.widget-view+json": {
              "version_major": 2,
              "version_minor": 0,
              "model_id": "de38ff2cd8ea4a649cd990d5b5976c07"
            }
          },
          "metadata": {}
        },
        {
          "output_type": "stream",
          "name": "stderr",
          "text": [
            "WARNING:matplotlib.image:Clipping input data to the valid range for imshow with RGB data ([0..1] for floats or [0..255] for integers).\n"
          ]
        },
        {
          "output_type": "stream",
          "name": "stdout",
          "text": [
            "Epoch : 4 | Discriminator loss : 0.6704831918927906 | Generator Loss : 0.7570263562934485\n"
          ]
        },
        {
          "output_type": "display_data",
          "data": {
            "text/plain": [
              "<Figure size 640x480 with 1 Axes>"
            ],
            "image/png": "[encoded data removed]"
          },
          "metadata": {}
        },
        {
          "output_type": "display_data",
          "data": {
            "text/plain": [
              "  0%|          | 0/469 [00:00<?, ?it/s]"
            ],
            "application/vnd.jupyter.widget-view+json": {
              "version_major": 2,
              "version_minor": 0,
              "model_id": "86fb96bcd4a94676a14a4a92da36cea2"
            }
          },
          "metadata": {}
        },
        {
          "output_type": "stream",
          "name": "stderr",
          "text": [
            "WARNING:matplotlib.image:Clipping input data to the valid range for imshow with RGB data ([0..1] for floats or [0..255] for integers).\n"
          ]
        },
        {
          "output_type": "stream",
          "name": "stdout",
          "text": [
            "Epoch : 5 | Discriminator loss : 0.67732240167508 | Generator Loss : 0.7469270888930445\n"
          ]
        },
        {
          "output_type": "display_data",
          "data": {
            "text/plain": [
              "<Figure size 640x480 with 1 Axes>"
            ],
            "image/png": "[encoded data removed]"
          },
          "metadata": {}
        }
      ]
    },
    {
      "cell_type": "code",
      "metadata": {
        "id": "r1IjTM2sliWa",
        "colab": {
          "base_uri": "https://localhost:8080/",
          "height": 452
        },
        "outputId": "cb99480c-5b5d-4775-9caf-d3818816d1a9"
      },
      "source": [
        "# Run after training is completed.\n",
        "# Now you can use Generator Network to generate handwritten images\n",
        "\n",
        "noise = torch.randn(batch_size, noise_dim, device = device)\n",
        "generated_image = G(noise)\n",
        "\n",
        "show_tensor_images(generated_image)"
      ],
      "execution_count": 29,
      "outputs": [
        {
          "output_type": "stream",
          "name": "stderr",
          "text": [
            "WARNING:matplotlib.image:Clipping input data to the valid range for imshow with RGB data ([0..1] for floats or [0..255] for integers).\n"
          ]
        },
        {
          "output_type": "display_data",
          "data": {
            "text/plain": [
              "<Figure size 640x480 with 1 Axes>"
            ],
            "image/png": "[encoded data removed]"
          },
          "metadata": {}
        }
      ]
    }
  ]
}